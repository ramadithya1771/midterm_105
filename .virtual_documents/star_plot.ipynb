


from astropy.io import fits
from astropy.stats import sigma_clipped_stats
import numpy as np
from matplotlib.colors import LogNorm
import matplotlib.pyplot as plt
from photutils.detection import DAOStarFinder


neb_data = fits.open("starcluster.fits")



img_data = neb_data[1].data
plt.imshow(img_data, origin = "lower", cmap = "Greys", norm = LogNorm() )
plt.show()
# print(img_data)# Pixel brightness


focused = img_data[0:2000, 0:2000]
# print(np.max(focused))
plt.imshow(focused, origin = "lower", cmap = "Greys", norm = LogNorm())
plt.show()



mean, median, std = sigma_clipped_stats(focused, sigma= 4.0)
print(mean, median, std)


daofind = DAOStarFinder(fwhm=1.613, threshold= 600*std, peakmax=250, exclude_border=True)#The full-width half-maximum (FWHM)
sources = daofind(focused)
# print(focused)
sources
# for col in sources.colnames:
#     if col not in ('id','npix'):
#         sources[col].info.format = '%.2f'
# sources.pprint(max_width = 76)


from photutils.aperture import CircularAperture
positions = np.transpose((sources['xcentroid'], sources['ycentroid']))
apertures = CircularAperture(positions, r = 15.0)
plt.imshow(focused, cmap = 'Greys', origin = "lower", norm = LogNorm())
apertures.plot(color = 'blue', lw = 1.5, alpha = 0.5);
plt.show()


from astropy.nddata import Cutout2D
count = 0
for x, y in zip(sources['xcentroid'], sources['ycentroid']):
    if count == 50:
        break
    count += 1
    cutout1 = Cutout2D(focused, (x, y), 20)
    # print(cutout1.data.shape)
    # break
    plt.imshow(cutout1.data, origin='lower')
    plt.show()
    # break


    a = np.linspace(0, cutout1.data.shape[1], cutout1.data.shape[1])
    # print(a)
    # a = np.linspace(0, cutout1.data.shape[1])
    # print(a)
    plt.subplot(1,2,1)
    # print(cutout1.data)
    # print(np.sum(cutout1.data, axis = 1))
    plt.plot(a,np.sum(cutout1.data, axis=0), label = "", marker ="*")
    plt.xlabel("x-axis(pixels)")
    plt.ylabel("Brightness")
    plt.subplot(1,2,2)
    plt.plot(a,np.sum(cutout1.data, axis=1), marker = "*")
    plt.suptitle("1D-Gaussian Plot")
    plt.xlabel("y-axis(pixels)")
    plt.ylabel("Brightness")
    plt.tight_layout()
    plt.show()
    




